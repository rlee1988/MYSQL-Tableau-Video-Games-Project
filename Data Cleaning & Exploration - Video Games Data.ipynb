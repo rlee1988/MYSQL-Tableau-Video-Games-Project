{
 "cells": [
  {
   "metadata": {},
   "cell_type": "markdown",
   "source": "# Data Cleaning & Exploration - Video Game Sales and Ratings",
   "id": "b3242a9a266e7685"
  },
  {
   "metadata": {},
   "cell_type": "markdown",
   "source": "## Import Libraries",
   "id": "f278823e28064d07"
  },
  {
   "metadata": {
    "ExecuteTime": {
     "end_time": "2024-07-01T13:40:07.949751Z",
     "start_time": "2024-07-01T13:40:07.947601Z"
    }
   },
   "cell_type": "code",
   "source": [
    "# Import packages\n",
    "import pandas as pd\n",
    "import numpy as np"
   ],
   "id": "initial_id",
   "outputs": [],
   "execution_count": 52
  },
  {
   "metadata": {},
   "cell_type": "markdown",
   "source": "## Load Dataset",
   "id": "153ad9ac0032e3a4"
  },
  {
   "metadata": {
    "ExecuteTime": {
     "end_time": "2024-07-01T13:40:08.031387Z",
     "start_time": "2024-07-01T13:40:07.992233Z"
    }
   },
   "cell_type": "code",
   "source": [
    "# Import CSV file\n",
    "games = pd.read_csv('/Users/raheem-gsu/DataGripProjects/MYSQL-Tableau-Video-Games-Project/Datasets/Video_Games.csv')"
   ],
   "id": "ae9588f2c7db3e28",
   "outputs": [],
   "execution_count": 53
  },
  {
   "metadata": {},
   "cell_type": "markdown",
   "source": "## Initial Data Inspection",
   "id": "da616dd5615dc514"
  },
  {
   "metadata": {
    "ExecuteTime": {
     "end_time": "2024-07-01T13:40:08.045846Z",
     "start_time": "2024-07-01T13:40:08.032752Z"
    }
   },
   "cell_type": "code",
   "source": [
    "# Display table\n",
    "games.head()"
   ],
   "id": "92940b74b1cbabfb",
   "outputs": [
    {
     "data": {
      "text/plain": [
       "   index                      name platform  year_of_release         genre  \\\n",
       "0      0                Wii Sports      Wii           2006.0        Sports   \n",
       "1      1         Super Mario Bros.      NES           1985.0      Platform   \n",
       "2      2            Mario Kart Wii      Wii           2008.0        Racing   \n",
       "3      3         Wii Sports Resort      Wii           2009.0        Sports   \n",
       "4      4  Pokemon Red/Pokemon Blue       GB           1996.0  Role-Playing   \n",
       "\n",
       "  publisher  na_sales  eu_sales  jp_sales  other_sales  global_sales  \\\n",
       "0  Nintendo     41.36     28.96      3.77         8.45         82.53   \n",
       "1  Nintendo     29.08      3.58      6.81         0.77         40.24   \n",
       "2  Nintendo     15.68     12.76      3.79         3.29         35.52   \n",
       "3  Nintendo     15.61     10.93      3.28         2.95         32.77   \n",
       "4  Nintendo     11.27      8.89     10.22         1.00         31.37   \n",
       "\n",
       "   critic_score  critic_count user_score  user_count developer rating  \n",
       "0          76.0          51.0          8       322.0  Nintendo      E  \n",
       "1           NaN           NaN        NaN         NaN       NaN    NaN  \n",
       "2          82.0          73.0        8.3       709.0  Nintendo      E  \n",
       "3          80.0          73.0          8       192.0  Nintendo      E  \n",
       "4           NaN           NaN        NaN         NaN       NaN    NaN  "
      ],
      "text/html": [
       "<div>\n",
       "<style scoped>\n",
       "    .dataframe tbody tr th:only-of-type {\n",
       "        vertical-align: middle;\n",
       "    }\n",
       "\n",
       "    .dataframe tbody tr th {\n",
       "        vertical-align: top;\n",
       "    }\n",
       "\n",
       "    .dataframe thead th {\n",
       "        text-align: right;\n",
       "    }\n",
       "</style>\n",
       "<table border=\"1\" class=\"dataframe\">\n",
       "  <thead>\n",
       "    <tr style=\"text-align: right;\">\n",
       "      <th></th>\n",
       "      <th>index</th>\n",
       "      <th>name</th>\n",
       "      <th>platform</th>\n",
       "      <th>year_of_release</th>\n",
       "      <th>genre</th>\n",
       "      <th>publisher</th>\n",
       "      <th>na_sales</th>\n",
       "      <th>eu_sales</th>\n",
       "      <th>jp_sales</th>\n",
       "      <th>other_sales</th>\n",
       "      <th>global_sales</th>\n",
       "      <th>critic_score</th>\n",
       "      <th>critic_count</th>\n",
       "      <th>user_score</th>\n",
       "      <th>user_count</th>\n",
       "      <th>developer</th>\n",
       "      <th>rating</th>\n",
       "    </tr>\n",
       "  </thead>\n",
       "  <tbody>\n",
       "    <tr>\n",
       "      <th>0</th>\n",
       "      <td>0</td>\n",
       "      <td>Wii Sports</td>\n",
       "      <td>Wii</td>\n",
       "      <td>2006.0</td>\n",
       "      <td>Sports</td>\n",
       "      <td>Nintendo</td>\n",
       "      <td>41.36</td>\n",
       "      <td>28.96</td>\n",
       "      <td>3.77</td>\n",
       "      <td>8.45</td>\n",
       "      <td>82.53</td>\n",
       "      <td>76.0</td>\n",
       "      <td>51.0</td>\n",
       "      <td>8</td>\n",
       "      <td>322.0</td>\n",
       "      <td>Nintendo</td>\n",
       "      <td>E</td>\n",
       "    </tr>\n",
       "    <tr>\n",
       "      <th>1</th>\n",
       "      <td>1</td>\n",
       "      <td>Super Mario Bros.</td>\n",
       "      <td>NES</td>\n",
       "      <td>1985.0</td>\n",
       "      <td>Platform</td>\n",
       "      <td>Nintendo</td>\n",
       "      <td>29.08</td>\n",
       "      <td>3.58</td>\n",
       "      <td>6.81</td>\n",
       "      <td>0.77</td>\n",
       "      <td>40.24</td>\n",
       "      <td>NaN</td>\n",
       "      <td>NaN</td>\n",
       "      <td>NaN</td>\n",
       "      <td>NaN</td>\n",
       "      <td>NaN</td>\n",
       "      <td>NaN</td>\n",
       "    </tr>\n",
       "    <tr>\n",
       "      <th>2</th>\n",
       "      <td>2</td>\n",
       "      <td>Mario Kart Wii</td>\n",
       "      <td>Wii</td>\n",
       "      <td>2008.0</td>\n",
       "      <td>Racing</td>\n",
       "      <td>Nintendo</td>\n",
       "      <td>15.68</td>\n",
       "      <td>12.76</td>\n",
       "      <td>3.79</td>\n",
       "      <td>3.29</td>\n",
       "      <td>35.52</td>\n",
       "      <td>82.0</td>\n",
       "      <td>73.0</td>\n",
       "      <td>8.3</td>\n",
       "      <td>709.0</td>\n",
       "      <td>Nintendo</td>\n",
       "      <td>E</td>\n",
       "    </tr>\n",
       "    <tr>\n",
       "      <th>3</th>\n",
       "      <td>3</td>\n",
       "      <td>Wii Sports Resort</td>\n",
       "      <td>Wii</td>\n",
       "      <td>2009.0</td>\n",
       "      <td>Sports</td>\n",
       "      <td>Nintendo</td>\n",
       "      <td>15.61</td>\n",
       "      <td>10.93</td>\n",
       "      <td>3.28</td>\n",
       "      <td>2.95</td>\n",
       "      <td>32.77</td>\n",
       "      <td>80.0</td>\n",
       "      <td>73.0</td>\n",
       "      <td>8</td>\n",
       "      <td>192.0</td>\n",
       "      <td>Nintendo</td>\n",
       "      <td>E</td>\n",
       "    </tr>\n",
       "    <tr>\n",
       "      <th>4</th>\n",
       "      <td>4</td>\n",
       "      <td>Pokemon Red/Pokemon Blue</td>\n",
       "      <td>GB</td>\n",
       "      <td>1996.0</td>\n",
       "      <td>Role-Playing</td>\n",
       "      <td>Nintendo</td>\n",
       "      <td>11.27</td>\n",
       "      <td>8.89</td>\n",
       "      <td>10.22</td>\n",
       "      <td>1.00</td>\n",
       "      <td>31.37</td>\n",
       "      <td>NaN</td>\n",
       "      <td>NaN</td>\n",
       "      <td>NaN</td>\n",
       "      <td>NaN</td>\n",
       "      <td>NaN</td>\n",
       "      <td>NaN</td>\n",
       "    </tr>\n",
       "  </tbody>\n",
       "</table>\n",
       "</div>"
      ]
     },
     "execution_count": 54,
     "metadata": {},
     "output_type": "execute_result"
    }
   ],
   "execution_count": 54
  },
  {
   "metadata": {
    "ExecuteTime": {
     "end_time": "2024-07-01T13:40:08.056460Z",
     "start_time": "2024-07-01T13:40:08.046919Z"
    }
   },
   "cell_type": "code",
   "source": [
    "# Table information\n",
    "games.info()"
   ],
   "id": "ff4d2ea2aeb2f15f",
   "outputs": [
    {
     "name": "stdout",
     "output_type": "stream",
     "text": [
      "<class 'pandas.core.frame.DataFrame'>\n",
      "RangeIndex: 16928 entries, 0 to 16927\n",
      "Data columns (total 17 columns):\n",
      " #   Column           Non-Null Count  Dtype  \n",
      "---  ------           --------------  -----  \n",
      " 0   index            16928 non-null  int64  \n",
      " 1   name             16926 non-null  object \n",
      " 2   platform         16928 non-null  object \n",
      " 3   year_of_release  16655 non-null  float64\n",
      " 4   genre            16926 non-null  object \n",
      " 5   publisher        16873 non-null  object \n",
      " 6   na_sales         16928 non-null  float64\n",
      " 7   eu_sales         16928 non-null  float64\n",
      " 8   jp_sales         16928 non-null  float64\n",
      " 9   other_sales      16928 non-null  float64\n",
      " 10  global_sales     16928 non-null  float64\n",
      " 11  critic_score     8260 non-null   float64\n",
      " 12  critic_count     8260 non-null   float64\n",
      " 13  user_score       10159 non-null  object \n",
      " 14  user_count       7718 non-null   float64\n",
      " 15  developer        10240 non-null  object \n",
      " 16  rating           10092 non-null  object \n",
      "dtypes: float64(9), int64(1), object(7)\n",
      "memory usage: 2.2+ MB\n"
     ]
    }
   ],
   "execution_count": 55
  },
  {
   "metadata": {},
   "cell_type": "markdown",
   "source": [
    "Note: \n",
    "\n",
    "`year_of_release` needs to be converted into **Int64**.\n",
    "\n",
    "`user_score` needs to be converted into **float64**."
   ],
   "id": "ac955197089d3ac7"
  },
  {
   "metadata": {},
   "cell_type": "markdown",
   "source": "# Descriptive Statistics",
   "id": "978d2b160913736e"
  },
  {
   "metadata": {
    "ExecuteTime": {
     "end_time": "2024-07-01T13:40:08.085653Z",
     "start_time": "2024-07-01T13:40:08.058366Z"
    }
   },
   "cell_type": "code",
   "source": [
    "# Summary statistics of numerical fields\n",
    "games.describe().T"
   ],
   "id": "1b753273362b9f73",
   "outputs": [
    {
     "data": {
      "text/plain": [
       "                   count         mean          std      min      25%      50%  \\\n",
       "index            16928.0  8463.500000  4886.837014     0.00  4231.75  8463.50   \n",
       "year_of_release  16655.0  2006.485320     5.882890  1980.00  2003.00  2007.00   \n",
       "na_sales         16928.0     0.266390     0.814326     0.00     0.00     0.08   \n",
       "eu_sales         16928.0     0.146850     0.504585     0.00     0.00     0.02   \n",
       "jp_sales         16928.0     0.078170     0.308756     0.00     0.00     0.00   \n",
       "other_sales      16928.0     0.047861     0.186675     0.00     0.00     0.01   \n",
       "global_sales     16928.0     0.539520     1.550545     0.01     0.06     0.17   \n",
       "critic_score      8260.0    69.037893    13.943198    13.00    60.00    71.00   \n",
       "critic_count      8260.0    26.428692    18.989929     3.00    12.00    22.00   \n",
       "user_count        7718.0   163.269629   562.786746     4.00    10.00    25.00   \n",
       "\n",
       "                      75%       max  \n",
       "index            12695.25  16927.00  \n",
       "year_of_release   2010.00   2020.00  \n",
       "na_sales             0.24     41.36  \n",
       "eu_sales             0.11     28.96  \n",
       "jp_sales             0.04     10.22  \n",
       "other_sales          0.04     10.57  \n",
       "global_sales         0.49     82.53  \n",
       "critic_score        79.00     98.00  \n",
       "critic_count        36.00    113.00  \n",
       "user_count          82.00  10665.00  "
      ],
      "text/html": [
       "<div>\n",
       "<style scoped>\n",
       "    .dataframe tbody tr th:only-of-type {\n",
       "        vertical-align: middle;\n",
       "    }\n",
       "\n",
       "    .dataframe tbody tr th {\n",
       "        vertical-align: top;\n",
       "    }\n",
       "\n",
       "    .dataframe thead th {\n",
       "        text-align: right;\n",
       "    }\n",
       "</style>\n",
       "<table border=\"1\" class=\"dataframe\">\n",
       "  <thead>\n",
       "    <tr style=\"text-align: right;\">\n",
       "      <th></th>\n",
       "      <th>count</th>\n",
       "      <th>mean</th>\n",
       "      <th>std</th>\n",
       "      <th>min</th>\n",
       "      <th>25%</th>\n",
       "      <th>50%</th>\n",
       "      <th>75%</th>\n",
       "      <th>max</th>\n",
       "    </tr>\n",
       "  </thead>\n",
       "  <tbody>\n",
       "    <tr>\n",
       "      <th>index</th>\n",
       "      <td>16928.0</td>\n",
       "      <td>8463.500000</td>\n",
       "      <td>4886.837014</td>\n",
       "      <td>0.00</td>\n",
       "      <td>4231.75</td>\n",
       "      <td>8463.50</td>\n",
       "      <td>12695.25</td>\n",
       "      <td>16927.00</td>\n",
       "    </tr>\n",
       "    <tr>\n",
       "      <th>year_of_release</th>\n",
       "      <td>16655.0</td>\n",
       "      <td>2006.485320</td>\n",
       "      <td>5.882890</td>\n",
       "      <td>1980.00</td>\n",
       "      <td>2003.00</td>\n",
       "      <td>2007.00</td>\n",
       "      <td>2010.00</td>\n",
       "      <td>2020.00</td>\n",
       "    </tr>\n",
       "    <tr>\n",
       "      <th>na_sales</th>\n",
       "      <td>16928.0</td>\n",
       "      <td>0.266390</td>\n",
       "      <td>0.814326</td>\n",
       "      <td>0.00</td>\n",
       "      <td>0.00</td>\n",
       "      <td>0.08</td>\n",
       "      <td>0.24</td>\n",
       "      <td>41.36</td>\n",
       "    </tr>\n",
       "    <tr>\n",
       "      <th>eu_sales</th>\n",
       "      <td>16928.0</td>\n",
       "      <td>0.146850</td>\n",
       "      <td>0.504585</td>\n",
       "      <td>0.00</td>\n",
       "      <td>0.00</td>\n",
       "      <td>0.02</td>\n",
       "      <td>0.11</td>\n",
       "      <td>28.96</td>\n",
       "    </tr>\n",
       "    <tr>\n",
       "      <th>jp_sales</th>\n",
       "      <td>16928.0</td>\n",
       "      <td>0.078170</td>\n",
       "      <td>0.308756</td>\n",
       "      <td>0.00</td>\n",
       "      <td>0.00</td>\n",
       "      <td>0.00</td>\n",
       "      <td>0.04</td>\n",
       "      <td>10.22</td>\n",
       "    </tr>\n",
       "    <tr>\n",
       "      <th>other_sales</th>\n",
       "      <td>16928.0</td>\n",
       "      <td>0.047861</td>\n",
       "      <td>0.186675</td>\n",
       "      <td>0.00</td>\n",
       "      <td>0.00</td>\n",
       "      <td>0.01</td>\n",
       "      <td>0.04</td>\n",
       "      <td>10.57</td>\n",
       "    </tr>\n",
       "    <tr>\n",
       "      <th>global_sales</th>\n",
       "      <td>16928.0</td>\n",
       "      <td>0.539520</td>\n",
       "      <td>1.550545</td>\n",
       "      <td>0.01</td>\n",
       "      <td>0.06</td>\n",
       "      <td>0.17</td>\n",
       "      <td>0.49</td>\n",
       "      <td>82.53</td>\n",
       "    </tr>\n",
       "    <tr>\n",
       "      <th>critic_score</th>\n",
       "      <td>8260.0</td>\n",
       "      <td>69.037893</td>\n",
       "      <td>13.943198</td>\n",
       "      <td>13.00</td>\n",
       "      <td>60.00</td>\n",
       "      <td>71.00</td>\n",
       "      <td>79.00</td>\n",
       "      <td>98.00</td>\n",
       "    </tr>\n",
       "    <tr>\n",
       "      <th>critic_count</th>\n",
       "      <td>8260.0</td>\n",
       "      <td>26.428692</td>\n",
       "      <td>18.989929</td>\n",
       "      <td>3.00</td>\n",
       "      <td>12.00</td>\n",
       "      <td>22.00</td>\n",
       "      <td>36.00</td>\n",
       "      <td>113.00</td>\n",
       "    </tr>\n",
       "    <tr>\n",
       "      <th>user_count</th>\n",
       "      <td>7718.0</td>\n",
       "      <td>163.269629</td>\n",
       "      <td>562.786746</td>\n",
       "      <td>4.00</td>\n",
       "      <td>10.00</td>\n",
       "      <td>25.00</td>\n",
       "      <td>82.00</td>\n",
       "      <td>10665.00</td>\n",
       "    </tr>\n",
       "  </tbody>\n",
       "</table>\n",
       "</div>"
      ]
     },
     "execution_count": 56,
     "metadata": {},
     "output_type": "execute_result"
    }
   ],
   "execution_count": 56
  },
  {
   "metadata": {},
   "cell_type": "markdown",
   "source": [
    "Note:\n",
    "\n",
    "Year Range: 1980 - 2020"
   ],
   "id": "aa41e4c4bb26ec4d"
  },
  {
   "metadata": {},
   "cell_type": "markdown",
   "source": "# Handling Missing Values",
   "id": "9f25ff4b21c95779"
  },
  {
   "metadata": {
    "ExecuteTime": {
     "end_time": "2024-07-01T13:40:08.094644Z",
     "start_time": "2024-07-01T13:40:08.086837Z"
    }
   },
   "cell_type": "code",
   "source": [
    "# Total missing values from each field\n",
    "games.isnull().sum()"
   ],
   "id": "3b82cd6283773ff2",
   "outputs": [
    {
     "data": {
      "text/plain": [
       "index                 0\n",
       "name                  2\n",
       "platform              0\n",
       "year_of_release     273\n",
       "genre                 2\n",
       "publisher            55\n",
       "na_sales              0\n",
       "eu_sales              0\n",
       "jp_sales              0\n",
       "other_sales           0\n",
       "global_sales          0\n",
       "critic_score       8668\n",
       "critic_count       8668\n",
       "user_score         6769\n",
       "user_count         9210\n",
       "developer          6688\n",
       "rating             6836\n",
       "dtype: int64"
      ]
     },
     "execution_count": 57,
     "metadata": {},
     "output_type": "execute_result"
    }
   ],
   "execution_count": 57
  },
  {
   "metadata": {
    "ExecuteTime": {
     "end_time": "2024-07-01T13:40:08.106853Z",
     "start_time": "2024-07-01T13:40:08.096069Z"
    }
   },
   "cell_type": "code",
   "source": [
    "# View name NaN's\n",
    "games[games['name'].isna()]"
   ],
   "id": "f105b730f9067c5e",
   "outputs": [
    {
     "data": {
      "text/plain": [
       "       index name platform  year_of_release genre              publisher  \\\n",
       "659      659  NaN      GEN           1993.0   NaN  Acclaim Entertainment   \n",
       "14246  14246  NaN      GEN           1993.0   NaN  Acclaim Entertainment   \n",
       "\n",
       "       na_sales  eu_sales  jp_sales  other_sales  global_sales  critic_score  \\\n",
       "659        1.78      0.53      0.00         0.08          2.39           NaN   \n",
       "14246      0.00      0.00      0.03         0.00          0.03           NaN   \n",
       "\n",
       "       critic_count user_score  user_count developer rating  \n",
       "659             NaN        NaN         NaN       NaN    NaN  \n",
       "14246           NaN        NaN         NaN       NaN    NaN  "
      ],
      "text/html": [
       "<div>\n",
       "<style scoped>\n",
       "    .dataframe tbody tr th:only-of-type {\n",
       "        vertical-align: middle;\n",
       "    }\n",
       "\n",
       "    .dataframe tbody tr th {\n",
       "        vertical-align: top;\n",
       "    }\n",
       "\n",
       "    .dataframe thead th {\n",
       "        text-align: right;\n",
       "    }\n",
       "</style>\n",
       "<table border=\"1\" class=\"dataframe\">\n",
       "  <thead>\n",
       "    <tr style=\"text-align: right;\">\n",
       "      <th></th>\n",
       "      <th>index</th>\n",
       "      <th>name</th>\n",
       "      <th>platform</th>\n",
       "      <th>year_of_release</th>\n",
       "      <th>genre</th>\n",
       "      <th>publisher</th>\n",
       "      <th>na_sales</th>\n",
       "      <th>eu_sales</th>\n",
       "      <th>jp_sales</th>\n",
       "      <th>other_sales</th>\n",
       "      <th>global_sales</th>\n",
       "      <th>critic_score</th>\n",
       "      <th>critic_count</th>\n",
       "      <th>user_score</th>\n",
       "      <th>user_count</th>\n",
       "      <th>developer</th>\n",
       "      <th>rating</th>\n",
       "    </tr>\n",
       "  </thead>\n",
       "  <tbody>\n",
       "    <tr>\n",
       "      <th>659</th>\n",
       "      <td>659</td>\n",
       "      <td>NaN</td>\n",
       "      <td>GEN</td>\n",
       "      <td>1993.0</td>\n",
       "      <td>NaN</td>\n",
       "      <td>Acclaim Entertainment</td>\n",
       "      <td>1.78</td>\n",
       "      <td>0.53</td>\n",
       "      <td>0.00</td>\n",
       "      <td>0.08</td>\n",
       "      <td>2.39</td>\n",
       "      <td>NaN</td>\n",
       "      <td>NaN</td>\n",
       "      <td>NaN</td>\n",
       "      <td>NaN</td>\n",
       "      <td>NaN</td>\n",
       "      <td>NaN</td>\n",
       "    </tr>\n",
       "    <tr>\n",
       "      <th>14246</th>\n",
       "      <td>14246</td>\n",
       "      <td>NaN</td>\n",
       "      <td>GEN</td>\n",
       "      <td>1993.0</td>\n",
       "      <td>NaN</td>\n",
       "      <td>Acclaim Entertainment</td>\n",
       "      <td>0.00</td>\n",
       "      <td>0.00</td>\n",
       "      <td>0.03</td>\n",
       "      <td>0.00</td>\n",
       "      <td>0.03</td>\n",
       "      <td>NaN</td>\n",
       "      <td>NaN</td>\n",
       "      <td>NaN</td>\n",
       "      <td>NaN</td>\n",
       "      <td>NaN</td>\n",
       "      <td>NaN</td>\n",
       "    </tr>\n",
       "  </tbody>\n",
       "</table>\n",
       "</div>"
      ]
     },
     "execution_count": 58,
     "metadata": {},
     "output_type": "execute_result"
    }
   ],
   "execution_count": 58
  },
  {
   "metadata": {
    "ExecuteTime": {
     "end_time": "2024-07-01T13:40:10.300307Z",
     "start_time": "2024-07-01T13:40:10.294877Z"
    }
   },
   "cell_type": "code",
   "source": [
    "# Drop Name NaN Values\n",
    "games.dropna(subset = ['name'], inplace = True)"
   ],
   "id": "ddcb5e0d2c43a803",
   "outputs": [],
   "execution_count": 59
  },
  {
   "metadata": {
    "ExecuteTime": {
     "end_time": "2024-07-01T13:40:12.209287Z",
     "start_time": "2024-07-01T13:40:12.204101Z"
    }
   },
   "cell_type": "code",
   "source": [
    "# View year_of_release value counts\n",
    "games['year_of_release'].value_counts(dropna=False)"
   ],
   "id": "c7e99cb6daf05305",
   "outputs": [
    {
     "data": {
      "text/plain": [
       "year_of_release\n",
       "2009.0    1448\n",
       "2008.0    1441\n",
       "2010.0    1269\n",
       "2007.0    1209\n",
       "2011.0    1150\n",
       "2006.0    1014\n",
       "2005.0     949\n",
       "2002.0     841\n",
       "2003.0     784\n",
       "2004.0     773\n",
       "2012.0     662\n",
       "2015.0     612\n",
       "2014.0     595\n",
       "2013.0     549\n",
       "2016.0     507\n",
       "2001.0     490\n",
       "1998.0     386\n",
       "2000.0     354\n",
       "1999.0     343\n",
       "1997.0     293\n",
       "NaN        273\n",
       "1996.0     267\n",
       "1995.0     222\n",
       "1994.0     121\n",
       "1993.0      61\n",
       "1981.0      46\n",
       "1992.0      43\n",
       "1991.0      42\n",
       "1982.0      39\n",
       "1986.0      21\n",
       "1989.0      17\n",
       "1983.0      17\n",
       "1990.0      16\n",
       "1987.0      16\n",
       "1988.0      15\n",
       "1985.0      14\n",
       "1984.0      14\n",
       "1980.0       9\n",
       "2017.0       3\n",
       "2020.0       1\n",
       "Name: count, dtype: int64"
      ]
     },
     "execution_count": 60,
     "metadata": {},
     "output_type": "execute_result"
    }
   ],
   "execution_count": 60
  },
  {
   "metadata": {},
   "cell_type": "markdown",
   "source": "Years are in **float64**. There are also NULL values. We will convert years to an **object** (string) and remove NULL values.",
   "id": "f1331c62df87aedf"
  },
  {
   "metadata": {
    "ExecuteTime": {
     "end_time": "2024-07-01T13:40:33.678974Z",
     "start_time": "2024-07-01T13:40:33.661903Z"
    }
   },
   "cell_type": "code",
   "source": [
    "# Convert year_of_release to string and remove .0\n",
    "games['year_of_release'] = games['year_of_release'].astype(str).str.replace('.0', '', regex=False)\n",
    "games['year_of_release'].value_counts(dropna=False)"
   ],
   "id": "128673c0ec21260",
   "outputs": [
    {
     "data": {
      "text/plain": [
       "year_of_release\n",
       "2009    1448\n",
       "2008    1441\n",
       "2010    1269\n",
       "2007    1209\n",
       "2011    1150\n",
       "2006    1014\n",
       "2005     949\n",
       "2002     841\n",
       "2003     784\n",
       "2004     773\n",
       "2012     662\n",
       "2015     612\n",
       "2014     595\n",
       "2013     549\n",
       "2016     507\n",
       "2001     490\n",
       "1998     386\n",
       "2000     354\n",
       "1999     343\n",
       "1997     293\n",
       "nan      273\n",
       "1996     267\n",
       "1995     222\n",
       "1994     121\n",
       "1993      61\n",
       "1981      46\n",
       "1992      43\n",
       "1991      42\n",
       "1982      39\n",
       "1986      21\n",
       "1989      17\n",
       "1983      17\n",
       "1990      16\n",
       "1987      16\n",
       "1988      15\n",
       "1985      14\n",
       "1984      14\n",
       "1980       9\n",
       "2017       3\n",
       "2020       1\n",
       "Name: count, dtype: int64"
      ]
     },
     "execution_count": 61,
     "metadata": {},
     "output_type": "execute_result"
    }
   ],
   "execution_count": 61
  },
  {
   "metadata": {},
   "cell_type": "markdown",
   "source": "NaN has been converted to string 'nan'. Let's replace it with a NULL value pandas will recognize. ",
   "id": "9c69d77c544cee27"
  },
  {
   "metadata": {
    "ExecuteTime": {
     "end_time": "2024-07-01T13:40:49.738395Z",
     "start_time": "2024-07-01T13:40:49.734404Z"
    }
   },
   "cell_type": "code",
   "source": [
    "# Replace string 'nan' with numpy NaN null value for strings\n",
    "games['year_of_release'] = games['year_of_release'].replace('nan', np.NaN)"
   ],
   "id": "8867f5fab85452b7",
   "outputs": [],
   "execution_count": 62
  },
  {
   "metadata": {},
   "cell_type": "markdown",
   "source": "Now 'nan' exists as NaN as a legitimate null value. It can now be read with .isna().sum()",
   "id": "bb8dc5a86ec9d4c6"
  },
  {
   "metadata": {
    "ExecuteTime": {
     "end_time": "2024-07-01T13:40:52.440432Z",
     "start_time": "2024-07-01T13:40:52.435743Z"
    }
   },
   "cell_type": "code",
   "source": [
    "# Verify NaN count\n",
    "games['year_of_release'].isna().sum()"
   ],
   "id": "97f08779750e0045",
   "outputs": [
    {
     "data": {
      "text/plain": [
       "273"
      ]
     },
     "execution_count": 63,
     "metadata": {},
     "output_type": "execute_result"
    }
   ],
   "execution_count": 63
  },
  {
   "metadata": {
    "ExecuteTime": {
     "end_time": "2024-07-01T13:41:04.349506Z",
     "start_time": "2024-07-01T13:41:04.343180Z"
    }
   },
   "cell_type": "code",
   "source": [
    "# Drop NaN year\n",
    "games.dropna(subset=['year_of_release'], inplace = True)"
   ],
   "id": "d9c77f8a98f1258",
   "outputs": [],
   "execution_count": 64
  },
  {
   "metadata": {
    "ExecuteTime": {
     "end_time": "2024-07-01T13:41:05.108971Z",
     "start_time": "2024-07-01T13:41:05.104458Z"
    }
   },
   "cell_type": "code",
   "source": [
    "# Verify year_of_release NaN count\n",
    "games['year_of_release'].isna().sum()"
   ],
   "id": "683e69edef3bb15b",
   "outputs": [
    {
     "data": {
      "text/plain": [
       "0"
      ]
     },
     "execution_count": 65,
     "metadata": {},
     "output_type": "execute_result"
    }
   ],
   "execution_count": 65
  },
  {
   "metadata": {
    "ExecuteTime": {
     "end_time": "2024-07-01T13:41:07.499715Z",
     "start_time": "2024-07-01T13:41:07.494808Z"
    }
   },
   "cell_type": "code",
   "source": [
    "# Viewing year_of_release value counts\n",
    "games['year_of_release'].value_counts()"
   ],
   "id": "e53df373a27b0b5d",
   "outputs": [
    {
     "data": {
      "text/plain": [
       "year_of_release\n",
       "2009    1448\n",
       "2008    1441\n",
       "2010    1269\n",
       "2007    1209\n",
       "2011    1150\n",
       "2006    1014\n",
       "2005     949\n",
       "2002     841\n",
       "2003     784\n",
       "2004     773\n",
       "2012     662\n",
       "2015     612\n",
       "2014     595\n",
       "2013     549\n",
       "2016     507\n",
       "2001     490\n",
       "1998     386\n",
       "2000     354\n",
       "1999     343\n",
       "1997     293\n",
       "1996     267\n",
       "1995     222\n",
       "1994     121\n",
       "1993      61\n",
       "1981      46\n",
       "1992      43\n",
       "1991      42\n",
       "1982      39\n",
       "1986      21\n",
       "1989      17\n",
       "1983      17\n",
       "1990      16\n",
       "1987      16\n",
       "1988      15\n",
       "1985      14\n",
       "1984      14\n",
       "1980       9\n",
       "2017       3\n",
       "2020       1\n",
       "Name: count, dtype: int64"
      ]
     },
     "execution_count": 66,
     "metadata": {},
     "output_type": "execute_result"
    }
   ],
   "execution_count": 66
  },
  {
   "metadata": {},
   "cell_type": "markdown",
   "source": "2017 and 2020 have very few values. Let's look into this further. ",
   "id": "2f1fa77bbc3610f8"
  },
  {
   "metadata": {
    "ExecuteTime": {
     "end_time": "2024-07-01T13:41:45.951524Z",
     "start_time": "2024-07-01T13:41:45.940204Z"
    }
   },
   "cell_type": "code",
   "source": [
    "# View 2017 and 2020 rows\n",
    "games[games['year_of_release'].isin(['2017', '2020'])]"
   ],
   "id": "92cd08950b9723a3",
   "outputs": [
    {
     "data": {
      "text/plain": [
       "       index                                              name platform  \\\n",
       "5936    5936                            Imagine: Makeup Artist       DS   \n",
       "14086  14086  Phantasy Star Online 2 Episode 4: Deluxe Package      PS4   \n",
       "16222  16222  Phantasy Star Online 2 Episode 4: Deluxe Package      PSV   \n",
       "16385  16385                  Brothers Conflict: Precious Baby      PSV   \n",
       "\n",
       "      year_of_release         genre     publisher  na_sales  eu_sales  \\\n",
       "5936             2020    Simulation       Ubisoft      0.27       0.0   \n",
       "14086            2017  Role-Playing          Sega      0.00       0.0   \n",
       "16222            2017  Role-Playing          Sega      0.00       0.0   \n",
       "16385            2017        Action  Idea Factory      0.00       0.0   \n",
       "\n",
       "       jp_sales  other_sales  global_sales  critic_score  critic_count  \\\n",
       "5936       0.00         0.02          0.29           NaN           NaN   \n",
       "14086      0.04         0.00          0.04           NaN           NaN   \n",
       "16222      0.01         0.00          0.01           NaN           NaN   \n",
       "16385      0.01         0.00          0.01           NaN           NaN   \n",
       "\n",
       "      user_score  user_count developer rating  \n",
       "5936         tbd         NaN   Ubisoft      E  \n",
       "14086        NaN         NaN       NaN    NaN  \n",
       "16222        NaN         NaN       NaN    NaN  \n",
       "16385        NaN         NaN       NaN    NaN  "
      ],
      "text/html": [
       "<div>\n",
       "<style scoped>\n",
       "    .dataframe tbody tr th:only-of-type {\n",
       "        vertical-align: middle;\n",
       "    }\n",
       "\n",
       "    .dataframe tbody tr th {\n",
       "        vertical-align: top;\n",
       "    }\n",
       "\n",
       "    .dataframe thead th {\n",
       "        text-align: right;\n",
       "    }\n",
       "</style>\n",
       "<table border=\"1\" class=\"dataframe\">\n",
       "  <thead>\n",
       "    <tr style=\"text-align: right;\">\n",
       "      <th></th>\n",
       "      <th>index</th>\n",
       "      <th>name</th>\n",
       "      <th>platform</th>\n",
       "      <th>year_of_release</th>\n",
       "      <th>genre</th>\n",
       "      <th>publisher</th>\n",
       "      <th>na_sales</th>\n",
       "      <th>eu_sales</th>\n",
       "      <th>jp_sales</th>\n",
       "      <th>other_sales</th>\n",
       "      <th>global_sales</th>\n",
       "      <th>critic_score</th>\n",
       "      <th>critic_count</th>\n",
       "      <th>user_score</th>\n",
       "      <th>user_count</th>\n",
       "      <th>developer</th>\n",
       "      <th>rating</th>\n",
       "    </tr>\n",
       "  </thead>\n",
       "  <tbody>\n",
       "    <tr>\n",
       "      <th>5936</th>\n",
       "      <td>5936</td>\n",
       "      <td>Imagine: Makeup Artist</td>\n",
       "      <td>DS</td>\n",
       "      <td>2020</td>\n",
       "      <td>Simulation</td>\n",
       "      <td>Ubisoft</td>\n",
       "      <td>0.27</td>\n",
       "      <td>0.0</td>\n",
       "      <td>0.00</td>\n",
       "      <td>0.02</td>\n",
       "      <td>0.29</td>\n",
       "      <td>NaN</td>\n",
       "      <td>NaN</td>\n",
       "      <td>tbd</td>\n",
       "      <td>NaN</td>\n",
       "      <td>Ubisoft</td>\n",
       "      <td>E</td>\n",
       "    </tr>\n",
       "    <tr>\n",
       "      <th>14086</th>\n",
       "      <td>14086</td>\n",
       "      <td>Phantasy Star Online 2 Episode 4: Deluxe Package</td>\n",
       "      <td>PS4</td>\n",
       "      <td>2017</td>\n",
       "      <td>Role-Playing</td>\n",
       "      <td>Sega</td>\n",
       "      <td>0.00</td>\n",
       "      <td>0.0</td>\n",
       "      <td>0.04</td>\n",
       "      <td>0.00</td>\n",
       "      <td>0.04</td>\n",
       "      <td>NaN</td>\n",
       "      <td>NaN</td>\n",
       "      <td>NaN</td>\n",
       "      <td>NaN</td>\n",
       "      <td>NaN</td>\n",
       "      <td>NaN</td>\n",
       "    </tr>\n",
       "    <tr>\n",
       "      <th>16222</th>\n",
       "      <td>16222</td>\n",
       "      <td>Phantasy Star Online 2 Episode 4: Deluxe Package</td>\n",
       "      <td>PSV</td>\n",
       "      <td>2017</td>\n",
       "      <td>Role-Playing</td>\n",
       "      <td>Sega</td>\n",
       "      <td>0.00</td>\n",
       "      <td>0.0</td>\n",
       "      <td>0.01</td>\n",
       "      <td>0.00</td>\n",
       "      <td>0.01</td>\n",
       "      <td>NaN</td>\n",
       "      <td>NaN</td>\n",
       "      <td>NaN</td>\n",
       "      <td>NaN</td>\n",
       "      <td>NaN</td>\n",
       "      <td>NaN</td>\n",
       "    </tr>\n",
       "    <tr>\n",
       "      <th>16385</th>\n",
       "      <td>16385</td>\n",
       "      <td>Brothers Conflict: Precious Baby</td>\n",
       "      <td>PSV</td>\n",
       "      <td>2017</td>\n",
       "      <td>Action</td>\n",
       "      <td>Idea Factory</td>\n",
       "      <td>0.00</td>\n",
       "      <td>0.0</td>\n",
       "      <td>0.01</td>\n",
       "      <td>0.00</td>\n",
       "      <td>0.01</td>\n",
       "      <td>NaN</td>\n",
       "      <td>NaN</td>\n",
       "      <td>NaN</td>\n",
       "      <td>NaN</td>\n",
       "      <td>NaN</td>\n",
       "      <td>NaN</td>\n",
       "    </tr>\n",
       "  </tbody>\n",
       "</table>\n",
       "</div>"
      ]
     },
     "execution_count": 67,
     "metadata": {},
     "output_type": "execute_result"
    }
   ],
   "execution_count": 67
  },
  {
   "metadata": {},
   "cell_type": "markdown",
   "source": "We will remove these years because they are incomplete years with few entries.",
   "id": "c338bb5e507d1450"
  },
  {
   "metadata": {
    "ExecuteTime": {
     "end_time": "2024-07-01T13:41:53.843816Z",
     "start_time": "2024-07-01T13:41:53.838877Z"
    }
   },
   "cell_type": "code",
   "source": [
    "# Drop years 2017 & 2020\n",
    "games.drop(games[games['year_of_release'].isin (['2017', '2020'])].index, inplace = True)"
   ],
   "id": "9bdc198dff366f34",
   "outputs": [],
   "execution_count": 68
  },
  {
   "metadata": {
    "ExecuteTime": {
     "end_time": "2024-07-01T13:42:20.835577Z",
     "start_time": "2024-07-01T13:42:20.829582Z"
    }
   },
   "cell_type": "code",
   "source": [
    "# Verify year_of_release column values\n",
    "games['year_of_release'].value_counts()"
   ],
   "id": "841fad21b4d14cc5",
   "outputs": [
    {
     "data": {
      "text/plain": [
       "year_of_release\n",
       "2009    1448\n",
       "2008    1441\n",
       "2010    1269\n",
       "2007    1209\n",
       "2011    1150\n",
       "2006    1014\n",
       "2005     949\n",
       "2002     841\n",
       "2003     784\n",
       "2004     773\n",
       "2012     662\n",
       "2015     612\n",
       "2014     595\n",
       "2013     549\n",
       "2016     507\n",
       "2001     490\n",
       "1998     386\n",
       "2000     354\n",
       "1999     343\n",
       "1997     293\n",
       "1996     267\n",
       "1995     222\n",
       "1994     121\n",
       "1993      61\n",
       "1981      46\n",
       "1992      43\n",
       "1991      42\n",
       "1982      39\n",
       "1986      21\n",
       "1989      17\n",
       "1983      17\n",
       "1990      16\n",
       "1987      16\n",
       "1988      15\n",
       "1985      14\n",
       "1984      14\n",
       "1980       9\n",
       "Name: count, dtype: int64"
      ]
     },
     "execution_count": 69,
     "metadata": {},
     "output_type": "execute_result"
    }
   ],
   "execution_count": 69
  },
  {
   "metadata": {},
   "cell_type": "markdown",
   "source": "# Data Cleaning",
   "id": "a91d5b095356c125"
  },
  {
   "metadata": {
    "ExecuteTime": {
     "end_time": "2024-07-01T13:42:32.318906Z",
     "start_time": "2024-07-01T13:42:32.299441Z"
    }
   },
   "cell_type": "code",
   "source": [
    "# Drop duplicates\n",
    "games.drop_duplicates(inplace=True)\n",
    "games.shape"
   ],
   "id": "77be89f6f7a6809",
   "outputs": [
    {
     "data": {
      "text/plain": [
       "(16649, 17)"
      ]
     },
     "execution_count": 70,
     "metadata": {},
     "output_type": "execute_result"
    }
   ],
   "execution_count": 70
  },
  {
   "metadata": {},
   "cell_type": "markdown",
   "source": "Original row amount: 16928",
   "id": "520b5543fcd2202f"
  },
  {
   "metadata": {
    "ExecuteTime": {
     "end_time": "2024-07-01T13:42:35.948301Z",
     "start_time": "2024-07-01T13:42:35.940902Z"
    }
   },
   "cell_type": "code",
   "source": [
    "# Convert user_score from an object to float64\n",
    "games['user_score'] = pd.to_numeric(games['user_score'], errors = 'coerce')"
   ],
   "id": "26c686bce66b6929",
   "outputs": [],
   "execution_count": 71
  },
  {
   "metadata": {
    "ExecuteTime": {
     "end_time": "2024-07-01T13:42:36.567703Z",
     "start_time": "2024-07-01T13:42:36.563043Z"
    }
   },
   "cell_type": "code",
   "source": [
    "# Verify user_score data type\n",
    "games[['user_score']].dtypes"
   ],
   "id": "c6308fc254fc4bdd",
   "outputs": [
    {
     "data": {
      "text/plain": [
       "user_score    float64\n",
       "dtype: object"
      ]
     },
     "execution_count": 72,
     "metadata": {},
     "output_type": "execute_result"
    }
   ],
   "execution_count": 72
  },
  {
   "metadata": {},
   "cell_type": "markdown",
   "source": "# Export Cleaned Dataset",
   "id": "264c09df7f6870ec"
  },
  {
   "metadata": {
    "ExecuteTime": {
     "end_time": "2024-06-22T19:51:34.961337Z",
     "start_time": "2024-06-22T19:51:34.840049Z"
    }
   },
   "cell_type": "code",
   "source": [
    "# Export to CSV file\n",
    "games.to_csv('video_games (cleaned).csv', index = False)"
   ],
   "id": "ba92bb1e1b079fa5",
   "outputs": [],
   "execution_count": 28
  }
 ],
 "metadata": {
  "kernelspec": {
   "display_name": "Python 3",
   "language": "python",
   "name": "python3"
  },
  "language_info": {
   "codemirror_mode": {
    "name": "ipython",
    "version": 2
   },
   "file_extension": ".py",
   "mimetype": "text/x-python",
   "name": "python",
   "nbconvert_exporter": "python",
   "pygments_lexer": "ipython2",
   "version": "2.7.6"
  }
 },
 "nbformat": 4,
 "nbformat_minor": 5
}
